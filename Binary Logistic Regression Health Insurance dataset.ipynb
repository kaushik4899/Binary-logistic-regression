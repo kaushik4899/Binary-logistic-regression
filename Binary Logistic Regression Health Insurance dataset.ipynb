{
 "cells": [
  {
   "cell_type": "markdown",
   "id": "05b3067c",
   "metadata": {},
   "source": [
    "# Classify based on the parameters of the data, that whether the user will go for purchase or not"
   ]
  },
  {
   "cell_type": "markdown",
   "id": "1e71b1e5",
   "metadata": {},
   "source": [
    "## Step 1 : Import the necessary libraries"
   ]
  },
  {
   "cell_type": "code",
   "execution_count": 1,
   "id": "ad6f0205",
   "metadata": {},
   "outputs": [],
   "source": [
    "import pandas as pd\n",
    "import numpy as np\n",
    "import matplotlib.pyplot as plt\n",
    "import seaborn as sns\n",
    "import warnings\n",
    "warnings.filterwarnings('ignore')"
   ]
  },
  {
   "cell_type": "markdown",
   "id": "a42a8018",
   "metadata": {},
   "source": [
    "## Step 2: Loading the dataset"
   ]
  },
  {
   "cell_type": "code",
   "execution_count": 3,
   "id": "b1a8fabc",
   "metadata": {},
   "outputs": [
    {
     "data": {
      "text/html": [
       "<div>\n",
       "<style scoped>\n",
       "    .dataframe tbody tr th:only-of-type {\n",
       "        vertical-align: middle;\n",
       "    }\n",
       "\n",
       "    .dataframe tbody tr th {\n",
       "        vertical-align: top;\n",
       "    }\n",
       "\n",
       "    .dataframe thead th {\n",
       "        text-align: right;\n",
       "    }\n",
       "</style>\n",
       "<table border=\"1\" class=\"dataframe\">\n",
       "  <thead>\n",
       "    <tr style=\"text-align: right;\">\n",
       "      <th></th>\n",
       "      <th>Age</th>\n",
       "      <th>Purchased</th>\n",
       "    </tr>\n",
       "  </thead>\n",
       "  <tbody>\n",
       "    <tr>\n",
       "      <th>0</th>\n",
       "      <td>19</td>\n",
       "      <td>0</td>\n",
       "    </tr>\n",
       "    <tr>\n",
       "      <th>1</th>\n",
       "      <td>35</td>\n",
       "      <td>0</td>\n",
       "    </tr>\n",
       "    <tr>\n",
       "      <th>2</th>\n",
       "      <td>26</td>\n",
       "      <td>0</td>\n",
       "    </tr>\n",
       "    <tr>\n",
       "      <th>3</th>\n",
       "      <td>27</td>\n",
       "      <td>0</td>\n",
       "    </tr>\n",
       "    <tr>\n",
       "      <th>4</th>\n",
       "      <td>19</td>\n",
       "      <td>0</td>\n",
       "    </tr>\n",
       "  </tbody>\n",
       "</table>\n",
       "</div>"
      ],
      "text/plain": [
       "   Age  Purchased\n",
       "0   19          0\n",
       "1   35          0\n",
       "2   26          0\n",
       "3   27          0\n",
       "4   19          0"
      ]
     },
     "execution_count": 3,
     "metadata": {},
     "output_type": "execute_result"
    }
   ],
   "source": [
    "data= pd.read_csv(\"C:/Users/Lenovo/Documents/ML/Health_Insurance.csv\")\n",
    "data.head()"
   ]
  },
  {
   "cell_type": "code",
   "execution_count": 4,
   "id": "6d391005",
   "metadata": {},
   "outputs": [
    {
     "data": {
      "text/plain": [
       "(400, 2)"
      ]
     },
     "execution_count": 4,
     "metadata": {},
     "output_type": "execute_result"
    }
   ],
   "source": [
    "data.shape"
   ]
  },
  {
   "cell_type": "markdown",
   "id": "9c77a878",
   "metadata": {},
   "source": [
    "##  Check for the Linearly seperable target"
   ]
  },
  {
   "cell_type": "code",
   "execution_count": 9,
   "id": "d1399e53",
   "metadata": {},
   "outputs": [
    {
     "data": {
      "text/plain": [
       "<AxesSubplot:xlabel='Age', ylabel='Purchased'>"
      ]
     },
     "execution_count": 9,
     "metadata": {},
     "output_type": "execute_result"
    },
    {
     "data": {
      "image/png": "[encoded data removed]",
      "text/plain": [
       "<Figure size 432x288 with 1 Axes>"
      ]
     },
     "metadata": {
      "needs_background": "light"
     },
     "output_type": "display_data"
    }
   ],
   "source": [
    "sns.scatterplot(x = 'Age', y = 'Purchased', data = data)"
   ]
  },
  {
   "cell_type": "markdown",
   "id": "7d2afb24",
   "metadata": {},
   "source": [
    "## Create independent and target varialbes"
   ]
  },
  {
   "cell_type": "code",
   "execution_count": 10,
   "id": "a83e6898",
   "metadata": {},
   "outputs": [],
   "source": [
    "X = data[['Age']]\n",
    "y = data[['Purchased']]"
   ]
  },
  {
   "cell_type": "markdown",
   "id": "d2e19a61",
   "metadata": {},
   "source": [
    "##  Seperate the data into train test split"
   ]
  },
  {
   "cell_type": "code",
   "execution_count": 20,
   "id": "c07fe61e",
   "metadata": {},
   "outputs": [
    {
     "data": {
      "text/plain": [
       "((280, 1), (120, 1))"
      ]
     },
     "execution_count": 20,
     "metadata": {},
     "output_type": "execute_result"
    }
   ],
   "source": [
    "from sklearn.model_selection import train_test_split\n",
    "\n",
    "X_train, X_test, y_train, y_test = train_test_split(X, y, test_size = 0.3, random_state = 0)\n",
    "\n",
    "X_train.shape, X_test.shape"
   ]
  },
  {
   "cell_type": "markdown",
   "id": "3e251623",
   "metadata": {},
   "source": [
    "## Apply Logistic Regression on X_train and y_train"
   ]
  },
  {
   "cell_type": "code",
   "execution_count": 21,
   "id": "b2ee197e",
   "metadata": {},
   "outputs": [
    {
     "data": {
      "text/plain": [
       "LogisticRegression()"
      ]
     },
     "execution_count": 21,
     "metadata": {},
     "output_type": "execute_result"
    }
   ],
   "source": [
    "from sklearn.linear_model import LogisticRegression\n",
    "lr = LogisticRegression()\n",
    "lr. fit(X_train, y_train)"
   ]
  },
  {
   "cell_type": "markdown",
   "id": "ffea8b5d",
   "metadata": {},
   "source": [
    "## : Do the predictions on the y_train data and store it in y_pred"
   ]
  },
  {
   "cell_type": "code",
   "execution_count": 22,
   "id": "2cef527f",
   "metadata": {
    "scrolled": true
   },
   "outputs": [
    {
     "data": {
      "text/plain": [
       "array([0, 0, 0, 0, 0, 0, 0, 0, 0, 1, 0, 0, 0, 0, 0, 0, 0, 0, 1, 0, 0, 1,\n",
       "       0, 1, 0, 1, 0, 0, 0, 0, 0, 0, 1, 0, 0, 0, 0, 0, 0, 1, 0, 0, 0, 0,\n",
       "       1, 0, 0, 1, 0, 1, 1, 0, 0, 0, 1, 1, 0, 0, 1, 0, 0, 1, 0, 0, 0, 1,\n",
       "       0, 0, 0, 0, 0, 0, 0, 1, 0, 0, 0, 0, 1, 1, 1, 1, 0, 0, 1, 0, 0, 1,\n",
       "       1, 0, 0, 0, 0, 0, 0, 0, 0, 1, 1, 0, 1, 0, 0, 0, 1, 1, 0, 0, 0, 0,\n",
       "       0, 0, 0, 1, 1, 1, 1, 0, 1, 1], dtype=int64)"
      ]
     },
     "execution_count": 22,
     "metadata": {},
     "output_type": "execute_result"
    }
   ],
   "source": [
    "y_pred = lr.predict(X_test)\n",
    "y_pred"
   ]
  },
  {
   "cell_type": "code",
   "execution_count": 23,
   "id": "23f669b9",
   "metadata": {},
   "outputs": [
    {
     "data": {
      "text/plain": [
       "array([0.09124262, 0.30353425, 0.20084264, 0.09124262, 0.20084264,\n",
       "       0.05472951, 0.10764242, 0.23191452, 0.01098038, 0.69445105,\n",
       "       0.09124262, 0.06503618, 0.26619227, 0.34366134, 0.0157724 ,\n",
       "       0.12657933, 0.26619227, 0.01316294, 0.90796556, 0.20084264,\n",
       "       0.20084264, 0.69445105, 0.43045078, 0.69445105, 0.02703847,\n",
       "       0.76638669, 0.06503618, 0.07712545, 0.26619227, 0.12657933,\n",
       "       0.01888926, 0.26619227, 0.93438299, 0.26619227, 0.03230859,\n",
       "       0.01098038, 0.02260791, 0.17299613, 0.10764242, 0.76638669,\n",
       "       0.05472951, 0.43045078, 0.05472951, 0.20084264, 0.52173523,\n",
       "       0.05472951, 0.26619227, 0.85050046, 0.04597588, 0.76638669,\n",
       "       0.93438299, 0.17299613, 0.20084264, 0.17299613, 0.95360507,\n",
       "       0.61159073, 0.07712545, 0.04597588, 0.76638669, 0.02703847,\n",
       "       0.12657933, 0.96108053, 0.01316294, 0.23191452, 0.01316294,\n",
       "       0.96108053, 0.03230859, 0.05472951, 0.38615201, 0.47589165,\n",
       "       0.12657933, 0.20084264, 0.02260791, 0.61159073, 0.05472951,\n",
       "       0.01098038, 0.47589165, 0.38615201, 0.87236526, 0.69445105,\n",
       "       0.94477628, 0.95360507, 0.03230859, 0.04597588, 0.94477628,\n",
       "       0.47589165, 0.38615201, 0.95360507, 0.65418985, 0.43045078,\n",
       "       0.47589165, 0.26619227, 0.02703847, 0.03856522, 0.03230859,\n",
       "       0.05472951, 0.02703847, 0.73194548, 0.73194548, 0.47589165,\n",
       "       0.56721558, 0.12657933, 0.30353425, 0.12657933, 0.85050046,\n",
       "       0.87236526, 0.34366134, 0.30353425, 0.23191452, 0.23191452,\n",
       "       0.20084264, 0.20084264, 0.47589165, 0.69445105, 0.95360507,\n",
       "       0.76638669, 0.61159073, 0.10764242, 0.65418985, 0.69445105])"
      ]
     },
     "execution_count": 23,
     "metadata": {},
     "output_type": "execute_result"
    }
   ],
   "source": [
    "lr.predict_proba(X_test)[:, -1]"
   ]
  },
  {
   "cell_type": "code",
   "execution_count": 24,
   "id": "c0b072d6",
   "metadata": {},
   "outputs": [
    {
     "data": {
      "text/html": [
       "<div>\n",
       "<style scoped>\n",
       "    .dataframe tbody tr th:only-of-type {\n",
       "        vertical-align: middle;\n",
       "    }\n",
       "\n",
       "    .dataframe tbody tr th {\n",
       "        vertical-align: top;\n",
       "    }\n",
       "\n",
       "    .dataframe thead th {\n",
       "        text-align: right;\n",
       "    }\n",
       "</style>\n",
       "<table border=\"1\" class=\"dataframe\">\n",
       "  <thead>\n",
       "    <tr style=\"text-align: right;\">\n",
       "      <th></th>\n",
       "      <th>Age</th>\n",
       "    </tr>\n",
       "  </thead>\n",
       "  <tbody>\n",
       "    <tr>\n",
       "      <th>216</th>\n",
       "      <td>49</td>\n",
       "    </tr>\n",
       "    <tr>\n",
       "      <th>259</th>\n",
       "      <td>45</td>\n",
       "    </tr>\n",
       "    <tr>\n",
       "      <th>49</th>\n",
       "      <td>31</td>\n",
       "    </tr>\n",
       "    <tr>\n",
       "      <th>238</th>\n",
       "      <td>46</td>\n",
       "    </tr>\n",
       "    <tr>\n",
       "      <th>343</th>\n",
       "      <td>47</td>\n",
       "    </tr>\n",
       "  </tbody>\n",
       "</table>\n",
       "</div>"
      ],
      "text/plain": [
       "     Age\n",
       "216   49\n",
       "259   45\n",
       "49    31\n",
       "238   46\n",
       "343   47"
      ]
     },
     "execution_count": 24,
     "metadata": {},
     "output_type": "execute_result"
    }
   ],
   "source": [
    "X_test.tail(5)"
   ]
  },
  {
   "cell_type": "markdown",
   "id": "930ef5b9",
   "metadata": {},
   "source": [
    "## Step 13: Check the accuracy of y_test and y_pred"
   ]
  },
  {
   "cell_type": "code",
   "execution_count": 28,
   "id": "72cdcbc1",
   "metadata": {},
   "outputs": [],
   "source": [
    "from sklearn.metrics import accuracy_score\n"
   ]
  },
  {
   "cell_type": "code",
   "execution_count": 29,
   "id": "7651fe7e",
   "metadata": {},
   "outputs": [
    {
     "data": {
      "text/plain": [
       "0.8666666666666667"
      ]
     },
     "execution_count": 29,
     "metadata": {},
     "output_type": "execute_result"
    }
   ],
   "source": [
    "accuracy_score(y_test,y_pred)"
   ]
  },
  {
   "cell_type": "code",
   "execution_count": 26,
   "id": "72f128bc",
   "metadata": {},
   "outputs": [
    {
     "data": {
      "text/plain": [
       "array([[74,  5],\n",
       "       [11, 30]], dtype=int64)"
      ]
     },
     "execution_count": 26,
     "metadata": {},
     "output_type": "execute_result"
    }
   ],
   "source": [
    "from sklearn.metrics import confusion_matrix\n",
    "cm= confusion_matrix(y_test, y_pred)\n",
    "cm"
   ]
  },
  {
   "cell_type": "code",
   "execution_count": 27,
   "id": "660f8af7",
   "metadata": {},
   "outputs": [
    {
     "name": "stdout",
     "output_type": "stream",
     "text": [
      "              precision    recall  f1-score   support\n",
      "\n",
      "           0       0.87      0.94      0.90        79\n",
      "           1       0.86      0.73      0.79        41\n",
      "\n",
      "    accuracy                           0.87       120\n",
      "   macro avg       0.86      0.83      0.85       120\n",
      "weighted avg       0.87      0.87      0.86       120\n",
      "\n"
     ]
    }
   ],
   "source": [
    "from sklearn.metrics import classification_report\n",
    "clf = classification_report(y_test,y_pred)\n",
    "print(clf)"
   ]
  },
  {
   "cell_type": "code",
   "execution_count": null,
   "id": "580215ae",
   "metadata": {},
   "outputs": [],
   "source": []
  }
 ],
 "metadata": {
  "kernelspec": {
   "display_name": "Python 3 (ipykernel)",
   "language": "python",
   "name": "python3"
  },
  "language_info": {
   "codemirror_mode": {
    "name": "ipython",
    "version": 3
   },
   "file_extension": ".py",
   "mimetype": "text/x-python",
   "name": "python",
   "nbconvert_exporter": "python",
   "pygments_lexer": "ipython3",
   "version": "3.9.12"
  }
 },
 "nbformat": 4,
 "nbformat_minor": 5
}
